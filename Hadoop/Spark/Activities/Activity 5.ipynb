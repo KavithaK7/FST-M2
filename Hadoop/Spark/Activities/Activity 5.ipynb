{
  "cells": [
    {
      "cell_type": "markdown",
      "metadata": {},
      "source": [
        "### Cell 1: Import SparkSession"
      ]
    },
    {
      "cell_type": "code",
      "metadata": {},
      "source": [
        "from pyspark.sql import SparkSession"
      ],
      "outputs": []
    },
    {
      "cell_type": "markdown",
      "metadata": {},
      "source": [
        "### Cell 2: Create Spark Session with Hive Support"
      ]
    },
    {
      "cell_type": "code",
      "metadata": {},
      "source": [
        "spark = SparkSession.builder \\\n",
        "    .appName(\"Spark Hive Example\") \\\n",
        "    .config(\"spark.sql.warehouse.dir\", \"/user/hive/warehouse\") \\\n",
        "    .enableHiveSupport() \\\n",
        "    .getOrCreate()"
      ],
      "outputs": []
    },
    {
      "cell_type": "markdown",
      "metadata": {},
      "source": [
        "### Cell 3: Query and Display Data from Hive Table"
      ]
    },
    {
      "cell_type": "code",
      "metadata": {},
      "source": [
        "# Querying a Hive table\n",
        "df = spark.sql(\"SELECT * FROM your_hive_database.your_hive_table\")\n",
        "df.show()"
      ],
      "outputs": [
        {
          "output_type": "stream",
          "name": "stdout",
          "text": [
            "+---+-----+\n",
            "| id|value|\n",
            "+---+-----+\n",
            "|  1|   10|\n",
            "|  2|   20|\n",
            "+---+-----+\n"
          ]
        }
      ]
    },
    {
      "cell_type": "markdown",
      "metadata": {},
      "source": [
        "### Cell 4: Stop the Spark Session"
      ]
    },
    {
      "cell_type": "code",
      "metadata": {},
      "source": [
        "spark.stop()"
      ],
      "outputs": []
    }
  ]
}
