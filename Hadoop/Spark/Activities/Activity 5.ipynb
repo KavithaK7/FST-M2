{
  "cells": [
    {
      "cell_type": "code",
      "metadata": {},
      "source": [
        "from pyspark.sql import SparkSession"
      ],
      "outputs": []
    },
    {
      "cell_type": "code",
      "metadata": {},
      "source": [
        "spark = SparkSession.builder \\\n",
        "    .appName(\"Spark Hive Example\") \\\n",
        "    .config(\"spark.sql.warehouse.dir\", \"/user/hive/warehouse\") \\\n",
        "    .enableHiveSupport() \\\n",
        "    .getOrCreate()"
      ],
      "outputs": []
    },
    {
      "cell_type": "code",
      "metadata": {},
      "source": [
        "# Querying a Hive table\n",
        "df = spark.sql(\"SELECT * FROM your_hive_database.your_hive_table\")\n",
        "df.show()"
      ],
      "outputs": []
    },
    {
      "cell_type": "code",
      "metadata": {},
      "source": [
        "# Stopping the Spark session\n",
        "spark.stop()"
      ],
      "outputs": []
    }
  ]
}
