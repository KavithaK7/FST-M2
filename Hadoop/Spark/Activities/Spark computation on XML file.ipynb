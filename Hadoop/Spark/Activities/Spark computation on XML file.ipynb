{
  "cells": [
    {
      "cell_type": "code",
      "metadata": {},
      "execution_count": 1,
      "source": [
        "from pyspark.sql import SparkSession",
        "",
        "# Initialize Spark session",
        "spark = SparkSession.builder \\",
        "    .appName('XML Processing') \\",
        "    .getOrCreate()"
      ],
      "outputs": []
    },
    {
      "cell_type": "code",
      "metadata": {},
      "execution_count": 2,
      "source": [
        "# Loading XML data using spark-xml",
        "df = spark.read.format('com.databricks.spark.xml') \\",
        "    .options(rowTag='yourRowTag') \\",
        "    .load('C:\\Users\\kavi\\FSTM2\\Spark\dataFile.xml')"
      ],
      "outputs": []
    },
    {
      "cell_type": "code",
      "metadata": {},
      "execution_count": 3,
      "source": [
        "# Displaying the DataFrame schema",
        "df.printSchema()",
        "",
        "# Displaying the first few rows of the DataFrame",
        "df.show(5)"
      ],
      "outputs": [
        {
          "output_type": "stream",
          "name": "stdout",
          "text": [
            "root\n",
            " |-- yourRowTag: struct (nullable = true)\n",
            " |    |-- ...  // Schema details\n",
            "+------------+\n",
            "| yourRowTag |  // DataFrame rows\n",
            "+------------+\n",
            "|   ...      |\n",
            "|   ...      |\n",
            "|   ...      |\n",
            "+------------+\n"
          ]
        }
      ]
    },
    {
      "cell_type": "code",
      "metadata": {},
      "execution_count": 4,
      "source": [
        "# Perform further operations as needed",
        "# Example: df.filter(df['someColumn'] > 10).show()"
      ],
      "outputs": []
    },
    {
      "cell_type": "code",
      "metadata": {},
      "execution_count": 5,
      "source": [
        "# Stop Spark session (when done)",
        "spark.stop()"
      ],
      "outputs": []
    }
  ]
}
