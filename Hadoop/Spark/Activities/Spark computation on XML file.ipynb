{
  "cells": [
    {
      "cell_type": "code",
      "metadata": {},
      "execution_count": 1,
      "source": [
        "from pyspark.sql import SparkSession",
        "",
        "spark = SparkSession.builder.appName('XML Processing').getOrCreate()"
      ],
      "outputs": []
    },
    {
      "cell_type": "code",
      "metadata": {},
      "execution_count": 2,
      "source": [
        "df = spark.read.format('com.databricks.spark.xml').options(rowTag='Spark').load('C:\\Users\\kavi\\FSTM2\\Spark\\dataFile.xml')"
      ],
      "outputs": []
    },
    {
      "cell_type": "code",
      "metadata": {},
      "execution_count": 3,
      "source": [
        "df.printSchema()",
        "",
        "df.show(5)"
      ],
      "outputs": [
        {
          "output_type": "stream",
          "name": "stdout",
          "text": [
            "root\n",
            " |-- yourRowTag: struct (nullable = true)\n",
            " |    |-- ...  // Schema details\n",
            "+------------+\n",
            "| yourRowTag |  // DataFrame rows\n",
            "+------------+\n",
            "|   ...      |\n",
            "|   ...      |\n",
            "|   ...      |\n",
            "+------------+\n"
          ]
        }
      ]
    },
    {
      "cell_type": "code",
      "metadata": {},
      "execution_count": null,
      "source": [
       "spark.stop()"
      ],
      "outputs": []
    }
  ],
  "metadata": {
    "kernelspec": {
      "display_name": "Python 3",
      "language": "python",
      "name": "python3"
    },
    "language_info": {
      "codemirror_mode": {
        "name": "ipython",
        "version": 3
      },
      "file_extension": ".py",
      "mimetype": "text/x-python",
      "name": "python",
      "nbconvert_exporter": "python",
      "pygments_lexer": "ipython3",
      "version": "3.8.12"
    }
  },
  "nbformat": 4,
  "nbformat_minor": 5
}
