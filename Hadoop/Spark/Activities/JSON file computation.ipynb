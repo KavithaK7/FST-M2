{
  "cells": [
    {
      "cell_type": "code",
      "metadata": {},
      "source": [
        "from pyspark.sql import SparkSession",
        "spark = SparkSession.builder.appName('JSONtoSpark').getOrCreate()"
      ],
      "outputs": [],
      "execution_count": 1
    },
    {
      "cell_type": "code",
      "metadata": {},
      "source": [
        "data = spark.read.json('C:\\Users\\Kavi\\FSTM2\\Spark\\dataFile.json')"
      ],
      "outputs": [],
      "execution_count": 2
    },
    {
      "cell_type": "code",
      "metadata": {},
      "source": [
        "data.show()"
      ],
      "outputs": [
        {
          "output_type": "execute_result",
          "data": {
            "text/plain": [
              "+---+-----+\n|age| name|\n+---+-----+\n| 20|Alice|\n| 25|  Bob|\n+---+-----+"
            ]
          },
          "execution_count": 2,
          "metadata": {}
        }
      ],
      "execution_count": 3
    }
  ],
  "metadata": {
    "kernelspec": {
      "display_name": "Python 3",
      "language": "python",
      "name": "python3"
    },
    "language_info": {
      "codemirror_mode": {
        "name": "ipython",
        "version": 3
      },
      "file_extension": ".py",
      "mimetype": "text/x-python",
      "name": "python",
      "nbconvert_exporter": "python",
      "pygments_lexer": "ipython3",
      "version": "3.7.10"
    }
  },
  "nbformat": 4,
  "nbformat_minor": 5
}
