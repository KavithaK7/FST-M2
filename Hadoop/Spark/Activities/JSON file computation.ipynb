from pyspark.sql import SparkSession

spark = SparkSession.builder.appName('JSONtoSpark').getOrCreate()
data = spark.read.json('C:\Users\Kavi\FSTM2\Spark\dataFile.json')
data.show()