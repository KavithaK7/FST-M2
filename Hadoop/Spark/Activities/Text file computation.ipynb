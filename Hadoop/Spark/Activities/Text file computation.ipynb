{
  "cells": [
    {
      "cell_type": "code",
      "metadata": {},
      "source": [
        "from pyspark.sql import SparkSession",
        "spark = SparkSession.builder.appName('TexttoSpark').getOrCreate()"
      ],
      "outputs": [],
      "execution_count": 1
    },
    {
      "cell_type": "code",
      "metadata": {},
      "source": [
        "data = spark.read.text('C:\\Users\\Kavi\\FSTM2\\Spark\\dataFile.txt')"
      ],
      "outputs": [],
      "execution_count": 2
    },
    {
      "cell_type": "code",
      "metadata": {},
      "source": [
        "data.show()"
      ],
      "outputs": [
        {
          "output_type": "execute_result",
          "data": {
            "text/plain": [
              "+--------------------+\n|               value|\n+--------------------+\n|   This is line 1. |\n| This is line 2.   |\n|And here is line 3.|\n+--------------------+"
            ]
          },
          "execution_count": 2,
          "metadata": {}
        }
      ],
      "execution_count": 3
    }
  ],
  "metadata": {
    "kernelspec": {
      "display_name": "Python 3",
      "language": "python",
      "name": "python3"
    },
    "language_info": {
      "codemirror_mode": {
        "name": "ipython",
        "version": 3
      },
      "file_extension": ".py",
      "mimetype": "text/x-python",
      "name": "python",
      "nbconvert_exporter": "python",
      "pygments_lexer": "ipython3",
      "version": "3.7.10"
    }
  },
  "nbformat": 4,
  "nbformat_minor": 5
}
