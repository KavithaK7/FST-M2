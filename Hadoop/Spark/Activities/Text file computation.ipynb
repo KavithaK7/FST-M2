from pyspark.sql import SparkSession

spark = SparkSession.builder.appName('TexttoSpark').getOrCreate()
data = spark.read.text('C:\Users\Kavi\FSTM2\Spark\dataFile.txt')
data.show()