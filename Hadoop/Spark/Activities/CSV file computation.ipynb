{
  "import_statements": [
    {
      "import": "pyspark.sql.SparkSession",
      "alias": "SparkSession"
    }
  ],
  "spark_session_creation": {
    "code": "spark = SparkSession.builder.appName(\"YourAppName\").getOrCreate()"
  },
  "read_csv_file": {
    "code": "df = spark.read.csv(\"C:\\Users\\Kavi\\FSTM2\\Spark\\dataFile.csv\", header=True, inferSchema=True)",
    "options": {
      "path": "C:\\Users\\Kavi\\FSTM2\\Spark\\dataFile.csv",
      "header": true,
      "inferSchema": true
    }
  },
  "data_processing": {
    "code": "processed_df = df.select(\"column1\", \"column2\").filter(df[\"column1\"] > 0)",
    "operations": [
      {
        "select_columns": ["column1", "column2"]
      },
      {
        "filter_condition": "df[\"column1\"] > 0"
      }
    ]
  },
  "write_csv_file": {
    "code": "processed_df.write.csv(\"C:\\Users\\Kavi\\FSTM2\\Spark\\outputFile.csv\")",
    "options": {
      "path": "C:\\Users\\Kavi\\FSTM2\\Spark\\outputFile.csv"
    }
  }
}
