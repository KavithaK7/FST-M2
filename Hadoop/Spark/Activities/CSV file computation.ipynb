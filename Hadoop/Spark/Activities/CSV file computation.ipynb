{
  "cells": [
    {
      "cell_type": "code",
      "metadata": {},
      "source": [
        "from pyspark.sql import SparkSession",
        "spark = SparkSession.builder.appName(\"YourAppName\").getOrCreate()"
      ]
    },
    {
      "cell_type": "code",
      "metadata": {},
      "source": [
        "df = spark.read.csv(\"C:\\Users\\Kavi\\FSTM2\\Spark\\dataFile.csv\", header=True, inferSchema=True)"
      ],
      "outputs": [],
      "execution_count": 1
    },
    {
      "cell_type": "code",
      "metadata": {},
      "source": [
        "processed_df = df.select(\"column1\", \"column2\").filter(df[\"column1\"] > 0)"
      ],
      "outputs": [],
      "execution_count": 2
    },
    {
      "cell_type": "code",
      "metadata": {},
      "source": [
        "processed_df.write.csv(\"C:\\Users\\Kavi\\FSTM2\\Spark\\outputFile.csv\")"
      ],
      "outputs": [],
      "execution_count": 3
    }
  ],
  "metadata": {
    "kernelspec": {
      "display_name": "Python 3",
      "language": "python",
      "name": "python3"
    },
    "language_info": {
      "codemirror_mode": {
        "name": "ipython",
        "version": 3
      },
      "file_extension": ".py",
      "mimetype": "text/x-python",
      "name": "python",
      "nbconvert_exporter": "python",
      "pygments_lexer": "ipython3",
      "version": "3.7.10"
    }
  },
  "nbformat": 4,
  "nbformat_minor": 5
}
