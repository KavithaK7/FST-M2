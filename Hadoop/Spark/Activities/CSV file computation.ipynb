from pyspark.sql import SparkSession

spark = SparkSession.builder.appName('CSVtoSpark').getOrCreate()
data = spark.read.csv('C:\Users\Kavi\Music\FSTM2\BigData\Spark\dataFile.csv', header=True, inferSchema=True)
data.show()